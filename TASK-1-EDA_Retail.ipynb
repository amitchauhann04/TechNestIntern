{
 "cells": [
  {
   "cell_type": "markdown",
   "id": "be0c1ceb",
   "metadata": {},
   "source": [
    "# Task 1: Exploratory Data Analysis (EDA) on Retail Dataset"
   ]
  },
  {
   "cell_type": "markdown",
   "id": "09267b74",
   "metadata": {},
   "source": [
    "### Dataset Overview"
   ]
  },
  {
   "cell_type": "code",
   "execution_count": null,
   "id": "cf4f9f86",
   "metadata": {},
   "outputs": [],
   "source": [
    "import pandas as pd\n",
    "import matplotlib.pyplot as plt\n",
    "import seaborn as sns\n",
    "\n",
    "# Sample dataset\n",
    "data = {\n",
    "    'Order ID': ['CA-2016-152156', 'CA-2016-152156', 'CA-2016-138688', 'US-2015-108966'],\n",
    "    'Order Date': pd.to_datetime(['2016-11-08', '2016-11-08', '2016-06-12', '2015-10-11']),\n",
    "    'Ship Date': pd.to_datetime(['2016-11-11', '2016-11-11', '2016-06-16', '2015-10-18']),\n",
    "    'Category': ['Furniture', 'Furniture', 'Office Supplies', 'Technology'],\n",
    "    'Sub-Category': ['Bookcases', 'Chairs', 'Labels', 'Phones'],\n",
    "    'Sales': [261.96, 731.94, 14.62, 957.58],\n",
    "    'Quantity': [2, 3, 2, 5],\n",
    "    'Discount': [0.0, 0.0, 0.0, 0.2],\n",
    "    'Profit': [41.91, 219.58, 6.87, 183.10]\n",
    "}\n",
    "df = pd.DataFrame(data)\n",
    "df['Order Month'] = df['Order Date'].dt.to_period('M')\n",
    "df.head()"
   ]
  },
  {
   "cell_type": "markdown",
   "id": "a7186524",
   "metadata": {},
   "source": [
    "### KPI Calculations"
   ]
  },
  {
   "cell_type": "code",
   "execution_count": null,
   "id": "204998a1",
   "metadata": {},
   "outputs": [],
   "source": [
    "total_sales = df['Sales'].sum()\n",
    "avg_order_value = df.groupby('Order ID')['Sales'].sum().mean()\n",
    "revenue_per_category = df.groupby('Category')['Sales'].sum()\n",
    "\n",
    "print('Total Sales:', total_sales)\n",
    "print('Average Order Value:', avg_order_value)\n",
    "print('Revenue per Category:\\n', revenue_per_category)"
   ]
  },
  {
   "cell_type": "markdown",
   "id": "316cfaf8",
   "metadata": {},
   "source": [
    "### Total Sales by Category"
   ]
  },
  {
   "cell_type": "code",
   "execution_count": null,
   "id": "230dce67",
   "metadata": {},
   "outputs": [],
   "source": [
    "plt.figure(figsize=(8, 5))\n",
    "sns.barplot(x=revenue_per_category.index, y=revenue_per_category.values)\n",
    "plt.title('Total Sales by Category')\n",
    "plt.ylabel('Sales ($)')\n",
    "plt.xlabel('Category')\n",
    "plt.tight_layout()\n",
    "plt.show()"
   ]
  },
  {
   "cell_type": "markdown",
   "id": "df1c945c",
   "metadata": {},
   "source": [
    "### Monthly Sales Trend"
   ]
  },
  {
   "cell_type": "code",
   "execution_count": null,
   "id": "74b21d1c",
   "metadata": {},
   "outputs": [],
   "source": [
    "monthly_sales = df.groupby('Order Month')['Sales'].sum()\n",
    "plt.figure(figsize=(8, 5))\n",
    "monthly_sales.plot(marker='o')\n",
    "plt.title('Monthly Sales Trend')\n",
    "plt.ylabel('Sales ($)')\n",
    "plt.xlabel('Month')\n",
    "plt.grid(True)\n",
    "plt.tight_layout()\n",
    "plt.show()"
   ]
  }
 ],
 "metadata": {},
 "nbformat": 4,
 "nbformat_minor": 5
}
